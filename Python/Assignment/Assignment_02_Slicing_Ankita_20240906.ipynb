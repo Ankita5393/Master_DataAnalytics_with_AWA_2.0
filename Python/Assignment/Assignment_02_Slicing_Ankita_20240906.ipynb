{
  "cells": [
    {
      "cell_type": "markdown",
      "id": "536004c0",
      "metadata": {
        "id": "536004c0"
      },
      "source": [
        "### Part1: Basic Slicing\n",
        "#### Introduction to Slicing:\n",
        "### (a) Given a string s = \"Hello, World!\", slice and print the following:\n",
        "##### (i).The entire string.\n",
        "#### (ii).The first 5 characters.\n",
        "#### (iii).The last 5 characters.\n",
        "#### (iv).The string excludes the first and last characters.\n",
        "#### (v).Every second character in the string."
      ]
    },
    {
      "cell_type": "code",
      "execution_count": null,
      "id": "a0bbef44-b44d-46b9-9a7b-7cd93d176710",
      "metadata": {
        "id": "a0bbef44-b44d-46b9-9a7b-7cd93d176710",
        "outputId": "4582a9a7-510b-44ea-c819-ea75053c52f3"
      },
      "outputs": [
        {
          "name": "stdout",
          "output_type": "stream",
          "text": [
            "Hello, World!\n",
            "Hello\n",
            "orld!\n",
            "ello, World\n",
            "Hlo ol!\n"
          ]
        }
      ],
      "source": [
        "s= \"Hello, World!\"\n",
        "print(s[:])      #(i).The entire string.\n",
        "\n",
        "print(s[0:5])    #(ii).The first 5 characters.\n",
        "\n",
        "print(s[-5:])    #(iii).The last 5 characters.\n",
        "\n",
        "print(s[1:12])   #(iv).The string excludes the first and last characters.\n",
        "\n",
        "print(s[0:13:2]) #(v).Every second character in the string."
      ]
    },
    {
      "cell_type": "markdown",
      "id": "a6ae45f0",
      "metadata": {
        "id": "a6ae45f0"
      },
      "source": [
        "### (2).Slicing with Negative Indices:\n",
        "### (a). Use negative indices to slice and print the following from the string s:\n",
        "#### (1). The last 3 characters.\n",
        "#### (2). All characters except the last 2.\n",
        "#### (3). The string reversed"
      ]
    },
    {
      "cell_type": "code",
      "execution_count": null,
      "id": "9132c463-7400-4356-accf-4439409b531b",
      "metadata": {
        "id": "9132c463-7400-4356-accf-4439409b531b",
        "outputId": "ddd2390e-043d-4506-ba98-1db3d95e1bf3"
      },
      "outputs": [
        {
          "name": "stdout",
          "output_type": "stream",
          "text": [
            "ld!\n",
            "Hello, Worl\n",
            "!dlroW ,olleH\n"
          ]
        }
      ],
      "source": [
        "s= \"Hello, World!\"\n",
        "print(s[-3:])      #(1). The last 3 characters.\n",
        "\n",
        "print(s[0:11])     #(2). All characters except the last 2.\n",
        "\n",
        "print(s[::-1])     #(3). The string reversed"
      ]
    },
    {
      "cell_type": "markdown",
      "id": "88f646e1",
      "metadata": {
        "id": "88f646e1"
      },
      "source": [
        "### Part 2: Advanced Slicing\n",
        "### (1).Slicing Substrings:\n",
        "### (a).Given a string sentence = \"The quick brown fox jumps over the lazy dog\", slice and print the following:\n",
        "#### (i).The word \"quick\".\n",
        "#### (ii).The word \"lazy\".\n",
        "#### (iii).The words \"brown fox jumps\""
      ]
    },
    {
      "cell_type": "code",
      "execution_count": null,
      "id": "4a920181-e653-4bac-ad01-89ab1f3544c6",
      "metadata": {
        "id": "4a920181-e653-4bac-ad01-89ab1f3544c6",
        "outputId": "75cc3789-51b7-4922-df75-083e8a55c6ea"
      },
      "outputs": [
        {
          "name": "stdout",
          "output_type": "stream",
          "text": [
            "The quick brown fox jumps over the lazy dog\n",
            "quick\n",
            " lazy\n",
            "lazy\n",
            "brown fox jumps\n"
          ]
        }
      ],
      "source": [
        "string_sen= \"The quick brown fox jumps over the lazy dog\"\n",
        "print(string_sen)\n",
        "\n",
        "print(string_sen[4:9])       #(i).The word \"quick\".\n",
        "\n",
        "print(string_sen[34:39])     #ii).The word \"lazy\".\n",
        "print(string_sen[-8:-4])\n",
        "\n",
        "print(string_sen[10:25])    #(iii).The words \"brown fox jumps\""
      ]
    },
    {
      "cell_type": "markdown",
      "id": "4a5a8825",
      "metadata": {
        "id": "4a5a8825"
      },
      "source": [
        "### (2).Step Slicing:\n",
        "### (a).Use step slicing to print the following from the string s:\n",
        "#### (i). Every third character.\n",
        "#### (ii). Every third character starts from the second character.\n",
        "#### (iii). The string reversed, stepping by 2."
      ]
    },
    {
      "cell_type": "code",
      "execution_count": null,
      "id": "3e553c60-9183-4554-9646-611c14854284",
      "metadata": {
        "id": "3e553c60-9183-4554-9646-611c14854284",
        "outputId": "616f7136-1ef4-448d-9cf9-c8ba2c882df9"
      },
      "outputs": [
        {
          "name": "stdout",
          "output_type": "stream",
          "text": [
            "The quick brown fox jumps over the lazy dog\n",
            "T i o xusv ea g\n"
          ]
        }
      ],
      "source": [
        "#(i).Every third character.\n",
        "\n",
        "s= \"The quick brown fox jumps over the lazy dog\"\n",
        "print(s)\n",
        "print(s[::3])"
      ]
    },
    {
      "cell_type": "code",
      "execution_count": null,
      "id": "78086ea3-e699-4421-9965-5b9bd7a27b4e",
      "metadata": {
        "id": "78086ea3-e699-4421-9965-5b9bd7a27b4e",
        "outputId": "b7a9e377-4965-4700-a9d0-47ee1d5961e9"
      },
      "outputs": [
        {
          "name": "stdout",
          "output_type": "stream",
          "text": [
            "hqcbwf m et zd\n"
          ]
        }
      ],
      "source": [
        "#(ii).Every third character starts from the second character.\n",
        "\n",
        "print(s[1:41:3])"
      ]
    },
    {
      "cell_type": "code",
      "execution_count": null,
      "id": "53018ad7-9311-483f-a73c-ca83c7d4f564",
      "metadata": {
        "id": "53018ad7-9311-483f-a73c-ca83c7d4f564",
        "outputId": "d0f6c4ab-d87c-46fe-bec1-70252a2fdc57"
      },
      "outputs": [
        {
          "name": "stdout",
          "output_type": "stream",
          "text": [
            "gdya h eosmjxfnobkiqeT\n"
          ]
        }
      ],
      "source": [
        "#(iii).The string reversed, stepping by 2.\n",
        "\n",
        "print(s[::-2])"
      ]
    },
    {
      "cell_type": "markdown",
      "id": "e7c5b446",
      "metadata": {
        "id": "e7c5b446"
      },
      "source": [
        "### Part 3: Practical Application\n",
        "### (1).Extracting Information:\n",
        "### (a).Given a string data = \"2024-09-01,Sunny,25°C\", extract and print the following:\n",
        "#### (i).The date.\n",
        "#### (ii).The weather condition.\n",
        "#### (iii).The temperature"
      ]
    },
    {
      "cell_type": "code",
      "execution_count": 2,
      "id": "e46262ae-3417-4119-a25f-013b4ad7df98",
      "metadata": {
        "id": "e46262ae-3417-4119-a25f-013b4ad7df98"
      },
      "outputs": [],
      "source": [
        "string_data= \"2024-09-01,Sunny,25°C\""
      ]
    },
    {
      "cell_type": "code",
      "execution_count": 3,
      "id": "0d1a0957-d34a-4d20-96b6-1ad5ac88aa27",
      "metadata": {
        "colab": {
          "base_uri": "https://localhost:8080/"
        },
        "id": "0d1a0957-d34a-4d20-96b6-1ad5ac88aa27",
        "outputId": "a07ed3cf-2571-4e85-b4cf-d6728300a89e"
      },
      "outputs": [
        {
          "output_type": "stream",
          "name": "stdout",
          "text": [
            "The_date: 2024-09-01\n",
            "weather_conditon: Sunny\n",
            "temperature: 25°C\n"
          ]
        }
      ],
      "source": [
        "The_date= string_data[0:10]\n",
        "print(\"The_date:\",The_date)\n",
        "\n",
        "weather_condition= string_data[11:16]\n",
        "print(\"weather_conditon:\",weather_condition)\n",
        "\n",
        "temperature= string_data[-4::]\n",
        "print(\"temperature:\",temperature)\n"
      ]
    },
    {
      "cell_type": "markdown",
      "id": "43dc46d8",
      "metadata": {
        "id": "43dc46d8"
      },
      "source": [
        "### 2.Reformatting Strings:\n",
        "#### i.Given a string phone_number = \"(123) 456-7890\", reformat it to ‘123-456-7890’"
      ]
    },
    {
      "cell_type": "code",
      "execution_count": null,
      "id": "e89fe9ee-7b9b-4e25-a854-5dd35f5cf44c",
      "metadata": {
        "id": "e89fe9ee-7b9b-4e25-a854-5dd35f5cf44c",
        "outputId": "9e351e8a-8fc1-4335-dbd5-eca5a0cf5229"
      },
      "outputs": [
        {
          "name": "stdout",
          "output_type": "stream",
          "text": [
            "formatted_phone_number: 123-456-7890\n"
          ]
        }
      ],
      "source": [
        "phone_number= \"(123) 456-7890\"\n",
        "# Remove parenthesis and space\n",
        "\n",
        "area_code= phone_number[1:4]  # Use slicing to get the final result.\n",
        "middle_part= phone_number[6:9]\n",
        "last_part= phone_number[10:]\n",
        "formatted_phone_number = f\"{area_code}-{middle_part}-{last_part}\"\n",
        "\n",
        "print(\"formatted_phone_number:\",formatted_phone_number)"
      ]
    },
    {
      "cell_type": "markdown",
      "id": "66a378e6",
      "metadata": {
        "id": "66a378e6"
      },
      "source": [
        "### Part 4: Questions based on string methods\n",
        "### (1).Upper and Lower Case Conversion:\n",
        "### Given a string s = \"Hello, World!\", perform the following:\n",
        "#### (b). Convert the string to all uppercase letters.\n",
        "#### (c). Convert the string to all lowercase letters.\n",
        "#### (d). Convert the string to the title case.\n",
        "#### (e). Capitalize the first letter of the string."
      ]
    },
    {
      "cell_type": "code",
      "execution_count": null,
      "id": "d79593eb-b858-4d7b-ab6d-b2b86e4da277",
      "metadata": {
        "id": "d79593eb-b858-4d7b-ab6d-b2b86e4da277",
        "outputId": "0543e03e-9a37-4890-8805-d253969fa0db"
      },
      "outputs": [
        {
          "name": "stdout",
          "output_type": "stream",
          "text": [
            "HELLO, WORLD!\n",
            "hello, world!\n",
            "Hello, World!\n",
            "Hello, world!\n"
          ]
        }
      ],
      "source": [
        "\n",
        "s= \"Hello, World!\"   #(b).Convert the string to all uppercase letters.\n",
        "print(s.upper())\n",
        "\n",
        "print(s.lower())     #(c).Convert the string to all lowercase letters\n",
        "\n",
        "print(s.title())     #(d).Convert the string to title case\n",
        "\n",
        "capitalize_first_letter= s.capitalize()   #(e).Capitalize the first letter of the string.\n",
        "print(capitalize_first_letter)\n",
        "\n"
      ]
    },
    {
      "cell_type": "markdown",
      "id": "da16d36a",
      "metadata": {
        "id": "da16d36a"
      },
      "source": [
        "### 2.Finding Substrings:\n",
        "### Given a string s = \"The quick brown fox jumps over the lazy dog\", perform the following:\n",
        "#### (a). Find the position of the substring \"fox\".\n",
        "#### (b). Check if the substring \"cat\" is in the string."
      ]
    },
    {
      "cell_type": "code",
      "execution_count": null,
      "id": "f8e7f1bb-b380-445a-96f7-5e233ccd8051",
      "metadata": {
        "id": "f8e7f1bb-b380-445a-96f7-5e233ccd8051",
        "outputId": "2a0fd4bf-188f-4e02-935c-539c96b8360c"
      },
      "outputs": [
        {
          "name": "stdout",
          "output_type": "stream",
          "text": [
            "The quick brown fox jumps over the lazy dog\n",
            "Position_of_substring: 16\n"
          ]
        }
      ],
      "source": [
        "s = \"The quick brown fox jumps over the lazy dog\"\n",
        "print(s)\n",
        "Position_of_substring= (s.find(\"fox\"))\n",
        "print(\"Position_of_substring:\",Position_of_substring)\n",
        "\n",
        "\n",
        "\n"
      ]
    },
    {
      "cell_type": "code",
      "execution_count": null,
      "id": "8d4abe2f-918e-44d4-8527-6cee0bea80ff",
      "metadata": {
        "id": "8d4abe2f-918e-44d4-8527-6cee0bea80ff",
        "outputId": "ad2bdc3c-c418-4673-b462-7f0e86511db9"
      },
      "outputs": [
        {
          "name": "stdout",
          "output_type": "stream",
          "text": [
            "The quick brown fox jumps over the lazy dog\n",
            "False\n"
          ]
        }
      ],
      "source": [
        "#(b).Check if the substring \"cat\" is in the string.\n",
        "s = \"The quick brown fox jumps over the lazy dog\"\n",
        "print(s)\n",
        "result= \"cat\"in s\n",
        "print(result)"
      ]
    },
    {
      "cell_type": "markdown",
      "id": "bd4a95f4",
      "metadata": {
        "id": "bd4a95f4"
      },
      "source": [
        "### 3.Replacing Substrings:\n",
        "### Given a string s = \"The quick brown fox jumps over the lazy dog\", perform the following:\n",
        "#### (a). Replace \"fox\" with \"cat\".\n",
        "#### (b). Replace all spaces with underscores.\n",
        "#### (c). Split the string into a list of words.\n",
        "#### (d). Split the string by the letter 'o'."
      ]
    },
    {
      "cell_type": "code",
      "execution_count": null,
      "id": "c4a5a6d7-01b4-4ffd-802e-d4b40320c24d",
      "metadata": {
        "id": "c4a5a6d7-01b4-4ffd-802e-d4b40320c24d",
        "outputId": "254794a0-f0c4-4227-98c3-67275c35a66e"
      },
      "outputs": [
        {
          "name": "stdout",
          "output_type": "stream",
          "text": [
            "replace_fox_with_cat: The quick brown cat jumps over the lazy dog\n",
            "replace_space_with_underscores: The_quick_brown_fox_jumps_over_the_lazy_dog\n",
            "split_list_words: ['The', 'quick', 'brown', 'fox', 'jumps', 'over', 'the', 'lazy', 'dog']\n",
            "final_string_after_split: ['The quick br', 'wn f', 'x jumps ', 'ver the lazy d', 'g']\n"
          ]
        }
      ],
      "source": [
        "s = \"The quick brown fox jumps over the lazy dog\"\n",
        "\n",
        "replace_fox_with_cat= (s.replace('fox','cat'))               #Replace \"fox\" with \"cat\".\n",
        "print(\"replace_fox_with_cat:\",replace_fox_with_cat)\n",
        "\n",
        "replace_space_with_underscores= (s.replace(' ','_'))          #Replace all spaces with underscores\n",
        "print(\"replace_space_with_underscores:\",replace_space_with_underscores)\n",
        "\n",
        "split_list_words= (s.split())                                #Split the string into a list of words.\n",
        "print(\"split_list_words:\",split_list_words)\n",
        "\n",
        "final_string_after_split= (s.split('o'))                     #Split the string by the letter 'o'.\n",
        "print(\"final_string_after_split:\",final_string_after_split)"
      ]
    },
    {
      "cell_type": "markdown",
      "id": "72f75ee2",
      "metadata": {
        "id": "72f75ee2"
      },
      "source": [
        "### 4.Joining Strings:\n",
        "### Given a list of words\n",
        "### words = [\"The\", \"quick\", \"brown\", \"fox\"], perform the following:\n",
        "#### (a). Join the words with spaces.\n",
        "#### (b). Join the words with hyphens"
      ]
    },
    {
      "cell_type": "code",
      "execution_count": null,
      "id": "00ba4ace-3f14-453c-8c2f-6a89d58c6081",
      "metadata": {
        "id": "00ba4ace-3f14-453c-8c2f-6a89d58c6081",
        "outputId": "4b2e9f75-7914-41d7-fa42-844f74f6e80c"
      },
      "outputs": [
        {
          "name": "stdout",
          "output_type": "stream",
          "text": [
            "words_with_spaces: The quick brown fox\n",
            "words_with_hyphens: The-quick-brown-fox\n"
          ]
        }
      ],
      "source": [
        "words= [\"The\", \"quick\", \"brown\", \"fox\"]\n",
        "\n",
        "words_with_spaces= (' '.join(words))           #Join the words with spaces.\n",
        "print(\"words_with_spaces:\",words_with_spaces)\n",
        "\n",
        "words_with_hyphens= ('-'.join(words))          #Join the words with hyphens\n",
        "print(\"words_with_hyphens:\",words_with_hyphens)"
      ]
    },
    {
      "cell_type": "code",
      "execution_count": null,
      "id": "2afd69a3-03ce-42dd-af01-8d8d57a3f977",
      "metadata": {
        "id": "2afd69a3-03ce-42dd-af01-8d8d57a3f977"
      },
      "outputs": [],
      "source": []
    }
  ],
  "metadata": {
    "kernelspec": {
      "display_name": "Python 3 (ipykernel)",
      "language": "python",
      "name": "python3"
    },
    "language_info": {
      "codemirror_mode": {
        "name": "ipython",
        "version": 3
      },
      "file_extension": ".py",
      "mimetype": "text/x-python",
      "name": "python",
      "nbconvert_exporter": "python",
      "pygments_lexer": "ipython3",
      "version": "3.12.5"
    },
    "colab": {
      "provenance": []
    }
  },
  "nbformat": 4,
  "nbformat_minor": 5
}