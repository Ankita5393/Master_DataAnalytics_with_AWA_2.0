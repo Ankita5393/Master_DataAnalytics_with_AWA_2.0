{
  "cells": [
    {
      "cell_type": "markdown",
      "id": "51be865c",
      "metadata": {
        "id": "51be865c"
      },
      "source": [
        "##### Name: Ankita Kumari | Date:20240902"
      ]
    },
    {
      "cell_type": "markdown",
      "id": "fc0f0dc1",
      "metadata": {
        "id": "fc0f0dc1"
      },
      "source": [
        "##### 1.Understanding Variables  \n",
        "##### (a)Define a variable in Python. Provide an example of how to create a variable that stores your name."
      ]
    },
    {
      "cell_type": "markdown",
      "id": "6ede61af",
      "metadata": {
        "id": "6ede61af"
      },
      "source": [
        "#### Variables store a value from one part of the program so that it can be used in other parts of the program.It should not be from the reserved keywords. It is dynamically typed"
      ]
    },
    {
      "cell_type": "code",
      "execution_count": null,
      "id": "21d71faf-bdcf-422e-9b21-7f6b917df948",
      "metadata": {
        "id": "21d71faf-bdcf-422e-9b21-7f6b917df948",
        "outputId": "81c9b2ae-e5ce-4db2-8d86-dbea71223b68"
      },
      "outputs": [
        {
          "name": "stdout",
          "output_type": "stream",
          "text": [
            "Ankita Kumari\n"
          ]
        }
      ],
      "source": [
        "# Create a variable that store my name\n",
        "my_name = \"Ankita Kumari\"  #Here,the assignment operator is used.\n",
        "print(my_name)"
      ]
    },
    {
      "cell_type": "markdown",
      "id": "f82f97a5",
      "metadata": {
        "id": "f82f97a5"
      },
      "source": [
        "##### (a)Create variables of the following types in Python:  1. Integer  2. Float  3. String  4. Boolean  "
      ]
    },
    {
      "cell_type": "code",
      "execution_count": null,
      "id": "c8031a08-1186-4e28-83a6-3a19060ac158",
      "metadata": {
        "id": "c8031a08-1186-4e28-83a6-3a19060ac158",
        "outputId": "af4f294f-5008-4b1c-9e15-cee087453d6c"
      },
      "outputs": [
        {
          "name": "stdout",
          "output_type": "stream",
          "text": [
            "23\n",
            "2.45\n",
            "This is my first Python assignment\n"
          ]
        }
      ],
      "source": [
        "int= 23\n",
        "print(int)\n",
        "\n",
        "float= 2.45\n",
        "print(float)\n",
        "\n",
        "str= 'This is my first Python assignment'\n",
        "print(str)\n"
      ]
    },
    {
      "cell_type": "code",
      "execution_count": null,
      "id": "c52748c6-5037-419a-9c44-bef6ef947522",
      "metadata": {
        "id": "c52748c6-5037-419a-9c44-bef6ef947522",
        "outputId": "8dfa8144-538e-4476-f085-9a7bd0627117"
      },
      "outputs": [
        {
          "name": "stdout",
          "output_type": "stream",
          "text": [
            "True\n"
          ]
        }
      ],
      "source": [
        "#Boolean\n",
        "num1= 4\n",
        "num2= 7\n",
        "bool= num1<num2\n",
        "print(bool)"
      ]
    },
    {
      "cell_type": "markdown",
      "id": "8ea5a40b",
      "metadata": {
        "id": "8ea5a40b"
      },
      "source": [
        "##### (b)Write a Python script to display the type of each variable you created."
      ]
    },
    {
      "cell_type": "code",
      "execution_count": null,
      "id": "5a2fd4d0-06b6-4d63-a828-9fea140697db",
      "metadata": {
        "id": "5a2fd4d0-06b6-4d63-a828-9fea140697db",
        "outputId": "09d25742-1470-4cb3-ef39-838a141ed094"
      },
      "outputs": [
        {
          "data": {
            "text/plain": [
              "int"
            ]
          },
          "execution_count": 30,
          "metadata": {},
          "output_type": "execute_result"
        }
      ],
      "source": [
        "int= 23\n",
        "type(int)"
      ]
    },
    {
      "cell_type": "code",
      "execution_count": null,
      "id": "83f6f782-2872-4388-8696-0c303251e767",
      "metadata": {
        "id": "83f6f782-2872-4388-8696-0c303251e767",
        "outputId": "d27d5740-35c1-4e17-a787-44773ac147c1"
      },
      "outputs": [
        {
          "data": {
            "text/plain": [
              "float"
            ]
          },
          "execution_count": 32,
          "metadata": {},
          "output_type": "execute_result"
        }
      ],
      "source": [
        "float= 2.45\n",
        "type(float)"
      ]
    },
    {
      "cell_type": "code",
      "execution_count": null,
      "id": "0f09c6dc-8a1d-4c21-b320-d6861c81771e",
      "metadata": {
        "id": "0f09c6dc-8a1d-4c21-b320-d6861c81771e",
        "outputId": "3b43c8f7-b43c-406a-fcf9-7b4d557fd861"
      },
      "outputs": [
        {
          "data": {
            "text/plain": [
              "str"
            ]
          },
          "execution_count": 34,
          "metadata": {},
          "output_type": "execute_result"
        }
      ],
      "source": [
        "str= 'This is my first Python assignment'\n",
        "type(str)"
      ]
    },
    {
      "cell_type": "code",
      "execution_count": null,
      "id": "03333e84-0d9f-4c87-8ed8-0b9860b75f7f",
      "metadata": {
        "id": "03333e84-0d9f-4c87-8ed8-0b9860b75f7f",
        "outputId": "f170c9fd-d363-4881-83c2-a8be975f2813"
      },
      "outputs": [
        {
          "data": {
            "text/plain": [
              "bool"
            ]
          },
          "execution_count": 38,
          "metadata": {},
          "output_type": "execute_result"
        }
      ],
      "source": [
        "num1= 4\n",
        "num2= 7\n",
        "bool= num1<num2\n",
        "type(bool)\n"
      ]
    },
    {
      "cell_type": "markdown",
      "id": "057da531",
      "metadata": {
        "id": "057da531"
      },
      "source": [
        "#### 3.Arithmetic Operators  \n",
        "#### (a)Explain the following arithmetic operators with examples:  \n",
        "#### 1.Addition ('+')  \n",
        "#### 2.Subtraction ('-')\n",
        "#### 3.Multiplication ('*')  \n",
        "#### 4.Division ('/')\n",
        "#### 5.Floor Division ('//')\n",
        "#### 6.Modulus ('%')  \n",
        "#### 7.Exponentiation ('**')"
      ]
    },
    {
      "cell_type": "markdown",
      "id": "2c51aef4",
      "metadata": {
        "id": "2c51aef4"
      },
      "source": [
        "##### Addition: The '+' operator adds two numbers together."
      ]
    },
    {
      "cell_type": "code",
      "execution_count": null,
      "id": "450163e7-2f8b-4630-b2dc-997a7efa4a22",
      "metadata": {
        "id": "450163e7-2f8b-4630-b2dc-997a7efa4a22",
        "outputId": "439ba641-0c82-4e99-ab17-003026e269fe"
      },
      "outputs": [
        {
          "name": "stdout",
          "output_type": "stream",
          "text": [
            "25\n"
          ]
        }
      ],
      "source": [
        "num1= 6\n",
        "num2= 19\n",
        "sum= num1+num2     # '+\" operator is adding two operands\n",
        "print(sum)"
      ]
    },
    {
      "cell_type": "markdown",
      "id": "52fff100",
      "metadata": {
        "id": "52fff100"
      },
      "source": [
        "#### Subtraction: The '-' operator subtracts the second number from the first number."
      ]
    },
    {
      "cell_type": "code",
      "execution_count": null,
      "id": "a1fc70c7-cc4c-4b95-84e4-3a2e5d913aac",
      "metadata": {
        "id": "a1fc70c7-cc4c-4b95-84e4-3a2e5d913aac",
        "outputId": "f892255e-9cde-47f7-c092-7240c822da52"
      },
      "outputs": [
        {
          "name": "stdout",
          "output_type": "stream",
          "text": [
            "13\n"
          ]
        }
      ],
      "source": [
        "num1= 6\n",
        "num2= 19\n",
        "\n",
        "sub= num2-num1\n",
        "print(sub)"
      ]
    },
    {
      "cell_type": "markdown",
      "id": "bd42ee62",
      "metadata": {
        "id": "bd42ee62"
      },
      "source": [
        "#### Subtraction: The '-' operator subtracts the second number from the first number."
      ]
    },
    {
      "cell_type": "code",
      "execution_count": null,
      "id": "83a711f3-b4e2-4aec-ae1e-ce2aa5a8a131",
      "metadata": {
        "id": "83a711f3-b4e2-4aec-ae1e-ce2aa5a8a131",
        "outputId": "c4b6cb05-c7a1-40b4-cc24-9b85ed55170b"
      },
      "outputs": [
        {
          "name": "stdout",
          "output_type": "stream",
          "text": [
            "114\n"
          ]
        }
      ],
      "source": [
        "num1= 6\n",
        "num2= 19\n",
        "\n",
        "Mul= num1*num2\n",
        "print(Mul)"
      ]
    },
    {
      "cell_type": "markdown",
      "id": "234d0de0",
      "metadata": {
        "id": "234d0de0"
      },
      "source": [
        "#### Division: The '/' operator divides the first number by the second number and returns a floating-point result."
      ]
    },
    {
      "cell_type": "code",
      "execution_count": null,
      "id": "6120e036-8977-4d0a-8c19-27d0cf286ded",
      "metadata": {
        "id": "6120e036-8977-4d0a-8c19-27d0cf286ded",
        "outputId": "6cb72bd3-343e-40a6-d564-8bbde4b5bf83"
      },
      "outputs": [
        {
          "name": "stdout",
          "output_type": "stream",
          "text": [
            "3.1666666666666665\n"
          ]
        }
      ],
      "source": [
        "num1= 6\n",
        "num2= 19\n",
        "\n",
        "div= num2/num1\n",
        "print(div)"
      ]
    },
    {
      "cell_type": "markdown",
      "id": "ceb7a538",
      "metadata": {
        "id": "ceb7a538"
      },
      "source": [
        "#### Floor Division: The '//' operator divides the first number by the second number and returns the largest integer less than or equal to the result(i.e., it rounds down)."
      ]
    },
    {
      "cell_type": "code",
      "execution_count": null,
      "id": "7c4c48f2-1d55-450d-bd9d-22fb0cf1d13e",
      "metadata": {
        "id": "7c4c48f2-1d55-450d-bd9d-22fb0cf1d13e",
        "outputId": "f481b068-0ae8-4fd7-d511-d1b98ef26f4d"
      },
      "outputs": [
        {
          "name": "stdout",
          "output_type": "stream",
          "text": [
            "3\n"
          ]
        }
      ],
      "source": [
        "num1= 6\n",
        "num2= 19\n",
        "\n",
        "fd= num2//num1\n",
        "print(fd)"
      ]
    },
    {
      "cell_type": "markdown",
      "id": "624190dd",
      "metadata": {
        "id": "624190dd"
      },
      "source": [
        "##### Modulus: The '%' operator returns the remainder of the division of any two numbers."
      ]
    },
    {
      "cell_type": "code",
      "execution_count": null,
      "id": "17a4aa3a-726c-4ea3-ab18-fb0c2445e97d",
      "metadata": {
        "id": "17a4aa3a-726c-4ea3-ab18-fb0c2445e97d",
        "outputId": "b147c6bd-9f7c-46f3-a554-f425c4d2d4f2"
      },
      "outputs": [
        {
          "name": "stdout",
          "output_type": "stream",
          "text": [
            "1\n"
          ]
        }
      ],
      "source": [
        "num1= 6\n",
        "num2= 19\n",
        "\n",
        "Mod= num2%num1   # '%' operator is applied between two operands 6 and 9 which executes the remainder 1.\n",
        "print(Mod)"
      ]
    },
    {
      "cell_type": "markdown",
      "id": "f3ebafa2",
      "metadata": {
        "id": "f3ebafa2"
      },
      "source": [
        "#### Exponentiation: The '**' operator raises the first number to the power of the second number."
      ]
    },
    {
      "cell_type": "code",
      "execution_count": null,
      "id": "4999ccac-1043-4cab-b85b-e0d8d586a0f4",
      "metadata": {
        "id": "4999ccac-1043-4cab-b85b-e0d8d586a0f4",
        "outputId": "a34daa97-453a-4ed1-cbe0-60362e316490"
      },
      "outputs": [
        {
          "name": "stdout",
          "output_type": "stream",
          "text": [
            "609359740010496\n"
          ]
        }
      ],
      "source": [
        "num1= 6\n",
        "num2= 19\n",
        "\n",
        "Exp= num1**num2\n",
        "print(Exp)"
      ]
    },
    {
      "cell_type": "markdown",
      "id": "83c02e37",
      "metadata": {
        "id": "83c02e37"
      },
      "source": [
        "#### (b)Write a Python script to calculate the area of a rectangle using variables 'length' and 'width' with values 5 and 10, respectively.Use the multiplication operator'''"
      ]
    },
    {
      "cell_type": "code",
      "execution_count": null,
      "id": "8d75029e",
      "metadata": {
        "id": "8d75029e",
        "outputId": "b585dd6a-210d-41f3-eb00-589074002171"
      },
      "outputs": [
        {
          "name": "stdout",
          "output_type": "stream",
          "text": [
            "The area of rectangle 50\n"
          ]
        }
      ],
      "source": [
        "L= eval(input(\"Enter length\"))\n",
        "W= eval(input(\"Enter width\"))\n",
        "Area= L*W\n",
        "print('The area of rectangle', Area)"
      ]
    },
    {
      "cell_type": "markdown",
      "id": "ceef9ef5",
      "metadata": {
        "id": "ceef9ef5"
      },
      "source": [
        "#### Comparison and Logical Operators  \n",
        "#### a.Explain the following comparison operators with examples:\n",
        "#### 1.Equal to ('==')\n",
        "#### 2.Not equal to ('!=')\n",
        "#### 3.Greater than ('>')\n",
        "#### 4.Less than ('<')\n",
        "#### 5.Greater than or equal to ('>=')\n",
        "#### 6.Less than or equal to ('<=')"
      ]
    },
    {
      "cell_type": "markdown",
      "id": "97cad348",
      "metadata": {
        "id": "97cad348"
      },
      "source": [
        "#### Equal to ('=='): This operator checks if the values of two operands are equal. checks if values are the same."
      ]
    },
    {
      "cell_type": "code",
      "execution_count": null,
      "id": "3f43ee6c-55ac-476a-9c35-c431d7079c17",
      "metadata": {
        "id": "3f43ee6c-55ac-476a-9c35-c431d7079c17",
        "outputId": "5b522b19-094f-4f0e-d2f8-a2395fdd1067"
      },
      "outputs": [
        {
          "name": "stdout",
          "output_type": "stream",
          "text": [
            "True\n"
          ]
        }
      ],
      "source": [
        "num1= 4\n",
        "num2= 4\n",
        "result= (num1==num2)\n",
        "print(result)"
      ]
    },
    {
      "cell_type": "code",
      "execution_count": null,
      "id": "5e43eac1-0dae-430c-b1f0-e130e5f4cf36",
      "metadata": {
        "id": "5e43eac1-0dae-430c-b1f0-e130e5f4cf36",
        "outputId": "9ae4fe87-5fe7-4a94-e787-6d4e455d26c3"
      },
      "outputs": [
        {
          "name": "stdout",
          "output_type": "stream",
          "text": [
            "False\n"
          ]
        }
      ],
      "source": [
        "num3= 3\n",
        "num4= 5\n",
        "result= (num4==num3)\n",
        "print(result)"
      ]
    },
    {
      "cell_type": "markdown",
      "id": "ac32cdaa",
      "metadata": {
        "id": "ac32cdaa"
      },
      "source": [
        "#### Not equal to('!='): This operator checks if the values of two operands are not equal.checks if values are different."
      ]
    },
    {
      "cell_type": "code",
      "execution_count": null,
      "id": "203f206c-ade2-447f-85d2-f56eb35a9ce4",
      "metadata": {
        "id": "203f206c-ade2-447f-85d2-f56eb35a9ce4",
        "outputId": "2d8366b1-8392-4364-f8b9-7fec59388959"
      },
      "outputs": [
        {
          "name": "stdout",
          "output_type": "stream",
          "text": [
            "True\n"
          ]
        }
      ],
      "source": [
        "num3= 3\n",
        "num4= 5\n",
        "result= (num3!=num4)\n",
        "print(result)"
      ]
    },
    {
      "cell_type": "code",
      "execution_count": null,
      "id": "cf42bb80-8ff4-4dfd-8701-42d80e9575da",
      "metadata": {
        "id": "cf42bb80-8ff4-4dfd-8701-42d80e9575da",
        "outputId": "0415cbfd-1597-4692-d081-9fe5912563dd"
      },
      "outputs": [
        {
          "name": "stdout",
          "output_type": "stream",
          "text": [
            "False\n"
          ]
        }
      ],
      "source": [
        "num1= 4\n",
        "num2= 4\n",
        "result= (num1!=num2)\n",
        "print(result)"
      ]
    },
    {
      "cell_type": "markdown",
      "id": "93fa94f1",
      "metadata": {
        "id": "93fa94f1"
      },
      "source": [
        "#### Greater than ('>'): This operator checks if the value of the left operand is greater than the value of the right operand. checks if the left value is greater."
      ]
    },
    {
      "cell_type": "code",
      "execution_count": null,
      "id": "4dbffe6b-712f-413f-9edd-751ac501f531",
      "metadata": {
        "id": "4dbffe6b-712f-413f-9edd-751ac501f531",
        "outputId": "5e3e23bc-0d90-4ec2-e9f2-ecafb34d6d02"
      },
      "outputs": [
        {
          "name": "stdout",
          "output_type": "stream",
          "text": [
            "True\n"
          ]
        }
      ],
      "source": [
        "num3= 3\n",
        "num4= 5\n",
        "result= (num4>num3)\n",
        "print(result)"
      ]
    },
    {
      "cell_type": "code",
      "execution_count": null,
      "id": "b0eb98a3-f3e7-4d22-8534-a68dc100593f",
      "metadata": {
        "id": "b0eb98a3-f3e7-4d22-8534-a68dc100593f",
        "outputId": "2971eae3-9959-4c2c-b56e-d18a607ff837"
      },
      "outputs": [
        {
          "name": "stdout",
          "output_type": "stream",
          "text": [
            "False\n"
          ]
        }
      ],
      "source": [
        "num3= 3\n",
        "num4= 5\n",
        "result= (num3>num4)\n",
        "print(result)"
      ]
    },
    {
      "cell_type": "markdown",
      "id": "a3a468b8",
      "metadata": {
        "id": "a3a468b8"
      },
      "source": [
        "#### Less than ('<'):  This operator checks if the value of the left operand is less than the value of the right operand."
      ]
    },
    {
      "cell_type": "code",
      "execution_count": null,
      "id": "186b9a3d-8c98-41f8-b0d5-e7790769a021",
      "metadata": {
        "id": "186b9a3d-8c98-41f8-b0d5-e7790769a021",
        "outputId": "695e07cf-83d6-473f-e7fb-1c465aa61f1f"
      },
      "outputs": [
        {
          "name": "stdout",
          "output_type": "stream",
          "text": [
            "False\n"
          ]
        }
      ],
      "source": [
        "num3= 3\n",
        "num4= 5\n",
        "result= (num4<num3)\n",
        "print(result)"
      ]
    },
    {
      "cell_type": "code",
      "execution_count": null,
      "id": "2190cc1a-d004-4b87-aca5-8df1375678d3",
      "metadata": {
        "id": "2190cc1a-d004-4b87-aca5-8df1375678d3",
        "outputId": "31344de3-b8cf-4745-ea50-d4dd3f089bf7"
      },
      "outputs": [
        {
          "name": "stdout",
          "output_type": "stream",
          "text": [
            "True\n"
          ]
        }
      ],
      "source": [
        "num3= 3\n",
        "num4= 5\n",
        "result= (num3<num4)\n",
        "print(result)"
      ]
    },
    {
      "cell_type": "markdown",
      "id": "4e200d79",
      "metadata": {
        "id": "4e200d79"
      },
      "source": [
        "#### Greater than or equal to ('>='): This operator checks if the value of the left operand is greater than or equal to the value of the right operand."
      ]
    },
    {
      "cell_type": "code",
      "execution_count": null,
      "id": "078cea39-c7e3-485d-a221-23af7d3b18c1",
      "metadata": {
        "id": "078cea39-c7e3-485d-a221-23af7d3b18c1",
        "outputId": "94f3accd-92da-44b4-b692-7b1e255a2f58"
      },
      "outputs": [
        {
          "name": "stdout",
          "output_type": "stream",
          "text": [
            "False\n"
          ]
        }
      ],
      "source": [
        "num3= 3\n",
        "num4= 5\n",
        "result= (num3>=num4)\n",
        "print(result)"
      ]
    },
    {
      "cell_type": "code",
      "execution_count": null,
      "id": "1ebdbfd8-27d4-4e63-a235-ebe39c6c9763",
      "metadata": {
        "id": "1ebdbfd8-27d4-4e63-a235-ebe39c6c9763",
        "outputId": "caae8ead-fcfb-42bf-8f3f-af3b86f09f34"
      },
      "outputs": [
        {
          "name": "stdout",
          "output_type": "stream",
          "text": [
            "True\n"
          ]
        }
      ],
      "source": [
        "num3= 3\n",
        "num4= 5\n",
        "result= (num4>=num3)   # one condition is satisfied\n",
        "print(result)"
      ]
    },
    {
      "cell_type": "markdown",
      "id": "8a0ee312",
      "metadata": {
        "id": "8a0ee312"
      },
      "source": [
        "#### Less than or equal to ('<='):This operator checks if the value of the left operand is less than or equal to the value of the right operand."
      ]
    },
    {
      "cell_type": "code",
      "execution_count": null,
      "id": "97733863-53bb-4425-bf84-f6e472907746",
      "metadata": {
        "id": "97733863-53bb-4425-bf84-f6e472907746",
        "outputId": "0815f031-01ff-432e-9686-b8be93cf9bee"
      },
      "outputs": [
        {
          "name": "stdout",
          "output_type": "stream",
          "text": [
            "False\n"
          ]
        }
      ],
      "source": [
        "num3= 3\n",
        "num4= 5\n",
        "result= (num4<=num3)\n",
        "print(result)"
      ]
    },
    {
      "cell_type": "code",
      "execution_count": null,
      "id": "262fb0ad-caaf-40a6-94ec-9124299e923d",
      "metadata": {
        "id": "262fb0ad-caaf-40a6-94ec-9124299e923d",
        "outputId": "f9b03511-da90-4867-d7b1-fd52277e1b3e"
      },
      "outputs": [
        {
          "name": "stdout",
          "output_type": "stream",
          "text": [
            "True\n"
          ]
        }
      ],
      "source": [
        "num3= 3\n",
        "num4= 5\n",
        "result= (num3<=num4)\n",
        "print(result)"
      ]
    },
    {
      "cell_type": "markdown",
      "id": "8351de93",
      "metadata": {
        "id": "8351de93"
      },
      "source": [
        "#### (b)Using logical operators ('and', 'or', 'not'), write a Python script that checks if a number is positive and even."
      ]
    },
    {
      "cell_type": "code",
      "execution_count": null,
      "id": "b751e45a-b7ae-4bb9-b29b-b605bc44ed8a",
      "metadata": {
        "id": "b751e45a-b7ae-4bb9-b29b-b605bc44ed8a",
        "outputId": "aaa72bcc-18ae-4f1c-b1ea-2577d5ceea8b"
      },
      "outputs": [
        {
          "name": "stdout",
          "output_type": "stream",
          "text": [
            "Enter a number:  250\n"
          ]
        },
        {
          "name": "stdout",
          "output_type": "stream",
          "text": [
            "Number is positive and even\n"
          ]
        }
      ],
      "source": [
        "num= int(input(\"Enter a number: \"))\n",
        "if (num!=0 and num >0):\n",
        "   if (num%2==0):\n",
        "     print(\"Number is positive and even\")\n",
        "   elif (num%2 !=0):\n",
        "     print(\"Number is positive and odd\")\n",
        "   else:\n",
        "     print(\"Number is negative\")\n",
        "else:\n",
        "     print(\"Number is Zero\")"
      ]
    },
    {
      "cell_type": "markdown",
      "id": "ca3948a8",
      "metadata": {
        "id": "ca3948a8"
      },
      "source": [
        "#### 5.Type Casting in Python  "
      ]
    },
    {
      "cell_type": "markdown",
      "id": "428b6e8d",
      "metadata": {
        "id": "428b6e8d"
      },
      "source": [
        "#### (a).What is type casting? Explain the difference between implicit and explicit type casting with examples."
      ]
    },
    {
      "cell_type": "markdown",
      "id": "32f482e7",
      "metadata": {
        "id": "32f482e7"
      },
      "source": [
        "#### Type casting: Type casting, also known as type conversion, is the process of converting a variable from one data type to another. Converting from one object type to a different object type."
      ]
    },
    {
      "cell_type": "markdown",
      "id": "eb4a7440",
      "metadata": {
        "id": "eb4a7440"
      },
      "source": [
        "#### Implicit Type Casting (Automatic Type Casting): This type of casting is automatically handled by the programming language. It occurs when you  mix  different data types in an operation, and the language implicitly converts one type to another to ensure compatibility."
      ]
    },
    {
      "cell_type": "code",
      "execution_count": null,
      "id": "ba512d8f-1858-40df-9908-5dc27d228ba2",
      "metadata": {
        "id": "ba512d8f-1858-40df-9908-5dc27d228ba2",
        "outputId": "a7605496-2cd9-4744-8e94-24fe8b98f9e0"
      },
      "outputs": [
        {
          "name": "stdout",
          "output_type": "stream",
          "text": [
            "10.5\n"
          ]
        }
      ],
      "source": [
        "int= 6\n",
        "float= 4.5\n",
        "result= int+float\n",
        "print(result)"
      ]
    },
    {
      "cell_type": "markdown",
      "id": "5d94d2de",
      "metadata": {
        "id": "5d94d2de"
      },
      "source": [
        "####  In this example, int(an integer) is implicitly converted to a float before performing the addition with float. The result is a float, which Python automatically handles."
      ]
    },
    {
      "cell_type": "markdown",
      "id": "daa253e2",
      "metadata": {
        "id": "daa253e2"
      },
      "source": [
        "#### Explicit Type Casting (Manual Type Casting): This type of casting is performed manually by the programmer using type conversion functions or methods.It gives you control over the conversion process.\n"
      ]
    },
    {
      "cell_type": "code",
      "execution_count": null,
      "id": "b4a6d129-4c13-46b1-a9b6-d8d9ff8e6b01",
      "metadata": {
        "id": "b4a6d129-4c13-46b1-a9b6-d8d9ff8e6b01",
        "outputId": "ffcb16f4-b0cd-409c-ee1c-e1b33d105755"
      },
      "outputs": [
        {
          "name": "stdout",
          "output_type": "stream",
          "text": [
            "Data Type of num1: <class 'int'>\n",
            "Data Type of num2: <class 'str'>\n",
            "Data Type of num2 after explicit type conversion from str to int: <class 'int'>\n",
            "Result: 1050\n",
            "Data Type of result: <class 'int'>\n"
          ]
        }
      ],
      "source": [
        "num1= 345\n",
        "num2= '705'\n",
        "print(\"Type of num1:\",type(num1))\n",
        "print(\"Type of num2:\",type(num2))\n",
        "print(\"Type of num2 after conversion from str to int:\",type(int(num2)))\n",
        "sum = num1 + int(num2)\n",
        "result= sum\n",
        "print(\"Result:\",result)\n",
        "print(\"Data Type of result:\",type(result))"
      ]
    },
    {
      "cell_type": "markdown",
      "id": "c618accb",
      "metadata": {
        "id": "c618accb"
      },
      "source": [
        "#### (b).Write a Python script that:\n",
        "#### 1.Converts a float to an integer.\n",
        "#### 2.Converts an integer to a string.\n",
        "#### 3.Converts a string to a float'''"
      ]
    },
    {
      "cell_type": "code",
      "execution_count": null,
      "id": "92e70017-3b9b-4dbe-829c-537e1ec50050",
      "metadata": {
        "id": "92e70017-3b9b-4dbe-829c-537e1ec50050",
        "outputId": "4d36ddfa-6197-4132-9ebb-86936753f726"
      },
      "outputs": [
        {
          "name": "stdout",
          "output_type": "stream",
          "text": [
            "Original float value 4.67\n",
            "Converted integer value 4\n"
          ]
        }
      ],
      "source": [
        "#Convert a float to an integer\n",
        "float_value= 4.67\n",
        "integer_value= int(float_value)\n",
        "print(\"Original float value\", float_value)\n",
        "print(\"Converted integer value\",integer_value)\n",
        "\n",
        "\n"
      ]
    },
    {
      "cell_type": "code",
      "execution_count": null,
      "id": "f5719436-91a4-40b9-8a35-3d890c5b7a63",
      "metadata": {
        "id": "f5719436-91a4-40b9-8a35-3d890c5b7a63",
        "outputId": "68e27e85-e354-4fdf-c316-c41f35469cf7"
      },
      "outputs": [
        {
          "name": "stdout",
          "output_type": "stream",
          "text": [
            "Integer to String Conversion: 80\n",
            "<class 'str'>\n"
          ]
        }
      ],
      "source": [
        " # Convert an integer to a string\n",
        "\n",
        "integer_value = 80\n",
        "String_value = str(integer_value)\n",
        "print(\"Integer to String Conversion:\",String_value)\n",
        "print(type(String_value))"
      ]
    },
    {
      "cell_type": "code",
      "execution_count": null,
      "id": "32f4ee0c",
      "metadata": {
        "id": "32f4ee0c"
      },
      "outputs": [],
      "source": [
        "string = \"Go with the flow\"\n",
        "# to_Float = float(string) ## This conversion isn't possible and it will throw an error --> (TypeError: 'float' object is not callable)\n"
      ]
    },
    {
      "cell_type": "markdown",
      "id": "da7facd6",
      "metadata": {
        "id": "da7facd6"
      },
      "source": [
        "#### 6-Practical Exercise: Mini Calculator  \n",
        " #### Write a Python script that asks the user to input two numbers and then:\n",
        "#### 1. Add the two numbers and print the result.\n",
        " #### 2. Subtracts the second number from the first and print the result.\n",
        " #### 3. Multiplies the two numbers and prints the result.\n",
        " #### 4. Divides the first number by the second and print the result (handle division by zero).\n",
        " #### 5. Converts the sum of the numbers to a string and prints the type of the result.'''"
      ]
    },
    {
      "cell_type": "code",
      "execution_count": null,
      "id": "ce85e8cb",
      "metadata": {
        "id": "ce85e8cb",
        "outputId": "12f58992-b170-4233-8f0e-b7c28b122c45"
      },
      "outputs": [
        {
          "name": "stdout",
          "output_type": "stream",
          "text": [
            "Sum of two numbers: 56\n",
            "Subtraction of two numbers: 36\n",
            "Multiplication of two numbers: 460\n",
            "Division value: 4.6\n",
            "Type of sum_result: <class 'str'>\n"
          ]
        }
      ],
      "source": [
        "num1= int(input(\"Enter the first number\"))\n",
        "num2= int(input(\"Enter the second number\"))\n",
        "sum= num1+num2\n",
        "sum_result= sum\n",
        "print(\"Sum of two numbers:\",sum_result)\n",
        "\n",
        "sub= num1-num2\n",
        "sub_result=sub\n",
        "print(\"Subtraction of two numbers:\",sub_result)\n",
        "\n",
        "\n",
        "mul= num2*num1\n",
        "mul_result= mul\n",
        "print(\"Multiplication of two numbers:\",mul_result)\n",
        "\n",
        "#Division\n",
        "if num2!=0:\n",
        "    div_result= num1/num2\n",
        "    print(\"Division value:\", div_result)\n",
        "else:\n",
        "    print(\"Zero division error\")\n",
        "\n",
        "\n",
        "#convert the sum to a string and print the type of result\n",
        "final_result= str(sum_result)\n",
        "print(\"Type of sum_result:\", type(final_result))"
      ]
    },
    {
      "cell_type": "code",
      "execution_count": null,
      "id": "700065e1-b7fd-40f2-8d57-d50ca2fc8696",
      "metadata": {
        "id": "700065e1-b7fd-40f2-8d57-d50ca2fc8696"
      },
      "outputs": [],
      "source": []
    }
  ],
  "metadata": {
    "kernelspec": {
      "display_name": "Python 3 (ipykernel)",
      "language": "python",
      "name": "python3"
    },
    "language_info": {
      "codemirror_mode": {
        "name": "ipython",
        "version": 3
      },
      "file_extension": ".py",
      "mimetype": "text/x-python",
      "name": "python",
      "nbconvert_exporter": "python",
      "pygments_lexer": "ipython3",
      "version": "3.12.5"
    },
    "colab": {
      "provenance": []
    }
  },
  "nbformat": 4,
  "nbformat_minor": 5
}