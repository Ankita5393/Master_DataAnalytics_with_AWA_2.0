{
 "cells": [
  {
   "cell_type": "code",
   "execution_count": null,
   "id": "ef43aa1a-e129-46ef-b3ff-8eb1a12b49d2",
   "metadata": {},
   "outputs": [],
   "source": [
    "##1)Create a list named my_list that contains the following elements: 10, 20, 30, 40, 50."
   ]
  },
  {
   "cell_type": "code",
   "execution_count": 144,
   "id": "20d12437-d6fe-4a3d-a3c8-a921676ead12",
   "metadata": {},
   "outputs": [],
   "source": [
    "my_list= [10, 20, 30, 40, 50]"
   ]
  },
  {
   "cell_type": "code",
   "execution_count": 146,
   "id": "81804582-cbeb-4bc3-b5f9-7b9f2ec70ff1",
   "metadata": {},
   "outputs": [
    {
     "data": {
      "text/plain": [
       "[10, 20, 30, 40, 50]"
      ]
     },
     "execution_count": 146,
     "metadata": {},
     "output_type": "execute_result"
    }
   ],
   "source": [
    "my_list"
   ]
  },
  {
   "cell_type": "code",
   "execution_count": null,
   "id": "e3b568ad-0579-4d3c-9d0c-b3ef0b57e817",
   "metadata": {},
   "outputs": [],
   "source": [
    "##2)Write a Python code to access the first and last elements of my_list."
   ]
  },
  {
   "cell_type": "code",
   "execution_count": 148,
   "id": "4708d427-41d8-4e95-a3c2-c902c8bec412",
   "metadata": {},
   "outputs": [
    {
     "data": {
      "text/plain": [
       "[10, 50]"
      ]
     },
     "execution_count": 148,
     "metadata": {},
     "output_type": "execute_result"
    }
   ],
   "source": [
    "my_list[0::4]"
   ]
  },
  {
   "cell_type": "code",
   "execution_count": null,
   "id": "cdf48f32-ad20-48fb-ac67-2d294877ceab",
   "metadata": {},
   "outputs": [],
   "source": [
    "##3)Change the second element of my_list to 25."
   ]
  },
  {
   "cell_type": "code",
   "execution_count": 150,
   "id": "425a908e-a902-4b06-873f-28702ad671a5",
   "metadata": {},
   "outputs": [],
   "source": [
    "my_list[1] = 25"
   ]
  },
  {
   "cell_type": "code",
   "execution_count": 152,
   "id": "af58244d-4a13-471b-9039-6c848f06ce35",
   "metadata": {},
   "outputs": [
    {
     "data": {
      "text/plain": [
       "[10, 25, 30, 40, 50]"
      ]
     },
     "execution_count": 152,
     "metadata": {},
     "output_type": "execute_result"
    }
   ],
   "source": [
    "my_list"
   ]
  },
  {
   "cell_type": "code",
   "execution_count": 9,
   "id": "bb4c1b53-4d8b-41a9-8986-a731b30b28cb",
   "metadata": {},
   "outputs": [],
   "source": [
    "##Append the value 60 to my_list."
   ]
  },
  {
   "cell_type": "code",
   "execution_count": 154,
   "id": "a6fcccda-cfe6-4e87-b925-e02ff2182253",
   "metadata": {},
   "outputs": [],
   "source": [
    "my_list.append(60)"
   ]
  },
  {
   "cell_type": "code",
   "execution_count": 156,
   "id": "7da7322b-87a8-4ffa-910f-1dad26a0158c",
   "metadata": {},
   "outputs": [
    {
     "data": {
      "text/plain": [
       "[10, 25, 30, 40, 50, 60]"
      ]
     },
     "execution_count": 156,
     "metadata": {},
     "output_type": "execute_result"
    }
   ],
   "source": [
    "my_list"
   ]
  },
  {
   "cell_type": "code",
   "execution_count": 15,
   "id": "94e26663-3485-4158-968e-9a4635e7414d",
   "metadata": {},
   "outputs": [],
   "source": [
    "##5)Insert the value 15 at the second position in my_list."
   ]
  },
  {
   "cell_type": "code",
   "execution_count": 158,
   "id": "94ede815-299d-4a02-bac0-90b6bb1af101",
   "metadata": {},
   "outputs": [],
   "source": [
    "my_list.insert(2,15)"
   ]
  },
  {
   "cell_type": "code",
   "execution_count": 160,
   "id": "ea0d2496-3b2b-4b17-8353-a2f4d6daff63",
   "metadata": {},
   "outputs": [
    {
     "data": {
      "text/plain": [
       "[10, 25, 15, 30, 40, 50, 60]"
      ]
     },
     "execution_count": 160,
     "metadata": {},
     "output_type": "execute_result"
    }
   ],
   "source": [
    "my_list"
   ]
  },
  {
   "cell_type": "code",
   "execution_count": null,
   "id": "94511013-34ba-4ab7-9cb6-900e6f6de2c1",
   "metadata": {},
   "outputs": [],
   "source": [
    "##6)Remove the first occurrence of 30 from my_list using the remove() method."
   ]
  },
  {
   "cell_type": "code",
   "execution_count": 162,
   "id": "38fc96d1-8dff-46d9-8946-2f35af7e3710",
   "metadata": {},
   "outputs": [],
   "source": [
    "my_list.remove(30)"
   ]
  },
  {
   "cell_type": "code",
   "execution_count": 164,
   "id": "0252c40e-6ee6-4b8f-a2e5-7b43dfcceb69",
   "metadata": {},
   "outputs": [
    {
     "data": {
      "text/plain": [
       "[10, 25, 15, 40, 50, 60]"
      ]
     },
     "execution_count": 164,
     "metadata": {},
     "output_type": "execute_result"
    }
   ],
   "source": [
    "my_list"
   ]
  },
  {
   "cell_type": "code",
   "execution_count": 74,
   "id": "b6cf3b90-3de8-4ea6-b55b-02ec5cb196bf",
   "metadata": {},
   "outputs": [],
   "source": [
    "##7)Use the pop() method to remove and return the last element from my_list."
   ]
  },
  {
   "cell_type": "code",
   "execution_count": 166,
   "id": "7866da52-ca34-4aa4-b9c9-8a81e17c311d",
   "metadata": {},
   "outputs": [
    {
     "data": {
      "text/plain": [
       "60"
      ]
     },
     "execution_count": 166,
     "metadata": {},
     "output_type": "execute_result"
    }
   ],
   "source": [
    "my_list.pop()"
   ]
  },
  {
   "cell_type": "code",
   "execution_count": 168,
   "id": "ea417cde-047e-4ea0-8446-851322b97cae",
   "metadata": {},
   "outputs": [
    {
     "data": {
      "text/plain": [
       "[10, 25, 15, 40, 50]"
      ]
     },
     "execution_count": 168,
     "metadata": {},
     "output_type": "execute_result"
    }
   ],
   "source": [
    "my_list"
   ]
  },
  {
   "cell_type": "code",
   "execution_count": 80,
   "id": "4d7731a0-7532-4122-933e-6072870fbc54",
   "metadata": {},
   "outputs": [],
   "source": [
    "##8)Sort my_list in ascending order."
   ]
  },
  {
   "cell_type": "code",
   "execution_count": 170,
   "id": "4d319239-ce31-4a23-8e81-bdc98e4ac240",
   "metadata": {},
   "outputs": [],
   "source": [
    "my_list.sort()"
   ]
  },
  {
   "cell_type": "code",
   "execution_count": 172,
   "id": "ea43cabf-bc1a-413c-90d2-ca99d8c8dbcc",
   "metadata": {},
   "outputs": [
    {
     "data": {
      "text/plain": [
       "[10, 15, 25, 40, 50]"
      ]
     },
     "execution_count": 172,
     "metadata": {},
     "output_type": "execute_result"
    }
   ],
   "source": [
    "my_list"
   ]
  },
  {
   "cell_type": "code",
   "execution_count": 86,
   "id": "554a6054-1605-4914-bec1-7c670b8ef777",
   "metadata": {},
   "outputs": [],
   "source": [
    "##9)Reverse the order of elements in my_list."
   ]
  },
  {
   "cell_type": "code",
   "execution_count": 90,
   "id": "5b2d5280-89bf-4f99-9bba-0b2556254cfd",
   "metadata": {},
   "outputs": [],
   "source": [
    "my_list.sort(reverse=True)"
   ]
  },
  {
   "cell_type": "code",
   "execution_count": 92,
   "id": "23a8bba9-0d76-4e32-bb4f-484f848fff6a",
   "metadata": {},
   "outputs": [
    {
     "data": {
      "text/plain": [
       "[50, 40, 20, 15, 10]"
      ]
     },
     "execution_count": 92,
     "metadata": {},
     "output_type": "execute_result"
    }
   ],
   "source": [
    "my_list"
   ]
  },
  {
   "cell_type": "code",
   "execution_count": 94,
   "id": "a1267b5e-4c2f-43ac-8d53-4b05bb9d938d",
   "metadata": {},
   "outputs": [],
   "source": [
    "##10)Count how many times the value 20 appears in my_list."
   ]
  },
  {
   "cell_type": "code",
   "execution_count": 96,
   "id": "e22e4bef-49fb-4944-a932-9cabff6537bd",
   "metadata": {},
   "outputs": [
    {
     "data": {
      "text/plain": [
       "1"
      ]
     },
     "execution_count": 96,
     "metadata": {},
     "output_type": "execute_result"
    }
   ],
   "source": [
    "my_list.count(20)"
   ]
  },
  {
   "cell_type": "code",
   "execution_count": 98,
   "id": "3ca73396-4cbb-46a3-8340-5ab2fd75eee6",
   "metadata": {},
   "outputs": [],
   "source": [
    "##11)Slice my_list to create a new list containing the first three elements."
   ]
  },
  {
   "cell_type": "code",
   "execution_count": 104,
   "id": "4d13410e-f493-4b55-a138-37f5db0d48aa",
   "metadata": {},
   "outputs": [],
   "source": [
    "my_list2 = my_list[0:3]"
   ]
  },
  {
   "cell_type": "code",
   "execution_count": 106,
   "id": "29cb2842-063b-453d-acf7-4f79ce59e0be",
   "metadata": {},
   "outputs": [
    {
     "data": {
      "text/plain": [
       "[50, 40, 20]"
      ]
     },
     "execution_count": 106,
     "metadata": {},
     "output_type": "execute_result"
    }
   ],
   "source": [
    "my_list2"
   ]
  },
  {
   "cell_type": "code",
   "execution_count": 108,
   "id": "fe48caac-0974-4011-82ce-4ed9f9ddc99f",
   "metadata": {},
   "outputs": [],
   "source": [
    "##12)Find the index of the value 40 in my_list."
   ]
  },
  {
   "cell_type": "code",
   "execution_count": 110,
   "id": "9af6a85f-bc45-4fd6-ab9c-a6f1962c1770",
   "metadata": {},
   "outputs": [
    {
     "data": {
      "text/plain": [
       "[50, 40, 20, 15, 10]"
      ]
     },
     "execution_count": 110,
     "metadata": {},
     "output_type": "execute_result"
    }
   ],
   "source": [
    "my_list"
   ]
  },
  {
   "cell_type": "code",
   "execution_count": 112,
   "id": "d8668321-178b-4384-99ae-d0f9ef5bf0b2",
   "metadata": {},
   "outputs": [
    {
     "data": {
      "text/plain": [
       "40"
      ]
     },
     "execution_count": 112,
     "metadata": {},
     "output_type": "execute_result"
    }
   ],
   "source": [
    "my_list[1]"
   ]
  },
  {
   "cell_type": "code",
   "execution_count": 114,
   "id": "495aea2d-8cb4-4420-9665-749780202c62",
   "metadata": {},
   "outputs": [],
   "source": [
    "##13)Clear all elements from my_list using the clear() method."
   ]
  },
  {
   "cell_type": "code",
   "execution_count": 116,
   "id": "f11a0317-d682-4512-9608-23ccdb7e4139",
   "metadata": {},
   "outputs": [],
   "source": [
    "my_list.clear()"
   ]
  },
  {
   "cell_type": "code",
   "execution_count": 118,
   "id": "1833f7b5-fbfa-4ef1-9538-63389dd61779",
   "metadata": {},
   "outputs": [
    {
     "data": {
      "text/plain": [
       "[]"
      ]
     },
     "execution_count": 118,
     "metadata": {},
     "output_type": "execute_result"
    }
   ],
   "source": [
    "my_list"
   ]
  },
  {
   "cell_type": "code",
   "execution_count": 120,
   "id": "99969074-a4fd-42c7-a6e9-215c2e1dd53e",
   "metadata": {},
   "outputs": [],
   "source": [
    "##14)Create a nested list called nested_list with two sublists: [1, 2, 3] and [4, 5, 6]."
   ]
  },
  {
   "cell_type": "code",
   "execution_count": 134,
   "id": "f81a1899-91f9-4bf2-b539-4a4f1f4f1304",
   "metadata": {},
   "outputs": [],
   "source": [
    "nested_list= [[1, 2, 3],[4, 5, 6]]"
   ]
  },
  {
   "cell_type": "code",
   "execution_count": 124,
   "id": "d031fa07-c1fa-40b3-a01f-371cf0bad548",
   "metadata": {},
   "outputs": [],
   "source": [
    "##15)Access the element 5 from nested_list."
   ]
  },
  {
   "cell_type": "code",
   "execution_count": 138,
   "id": "97079e86-8cf9-4787-a9d5-4ede2adff405",
   "metadata": {},
   "outputs": [
    {
     "data": {
      "text/plain": [
       "5"
      ]
     },
     "execution_count": 138,
     "metadata": {},
     "output_type": "execute_result"
    }
   ],
   "source": [
    "nested_list[1][1]"
   ]
  },
  {
   "cell_type": "code",
   "execution_count": null,
   "id": "ade3040a-5f02-49b8-ac2a-da62012f0b8a",
   "metadata": {},
   "outputs": [],
   "source": []
  }
 ],
 "metadata": {
  "kernelspec": {
   "display_name": "Python 3 (ipykernel)",
   "language": "python",
   "name": "python3"
  },
  "language_info": {
   "codemirror_mode": {
    "name": "ipython",
    "version": 3
   },
   "file_extension": ".py",
   "mimetype": "text/x-python",
   "name": "python",
   "nbconvert_exporter": "python",
   "pygments_lexer": "ipython3",
   "version": "3.12.4"
  }
 },
 "nbformat": 4,
 "nbformat_minor": 5
}
