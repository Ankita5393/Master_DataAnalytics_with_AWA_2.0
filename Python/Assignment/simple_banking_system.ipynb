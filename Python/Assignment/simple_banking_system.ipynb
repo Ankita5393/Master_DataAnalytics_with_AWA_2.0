{
 "cells": [
  {
   "cell_type": "code",
   "execution_count": 1,
   "id": "047ce605-975e-4cb3-bbe2-9d4a68d1df00",
   "metadata": {},
   "outputs": [],
   "source": [
    "##Simple Banking System with Exception Handling"
   ]
  },
  {
   "cell_type": "code",
   "execution_count": 30,
   "id": "8e21f1e9-d0b1-4d0b-ab82-41ec98c03a70",
   "metadata": {},
   "outputs": [
    {
     "name": "stdout",
     "output_type": "stream",
     "text": [
      "check_bal: 3000.0\n"
     ]
    },
    {
     "name": "stdin",
     "output_type": "stream",
     "text": [
      "Enter the withdrawal amt: ankita\n"
     ]
    },
    {
     "name": "stdout",
     "output_type": "stream",
     "text": [
      "Invalid input. Please enter a numeric value for the withdrawal amount.\n"
     ]
    }
   ],
   "source": [
    "Account_Bal= float(3000)\n",
    "check_bal= Account_Bal\n",
    "print(\"check_bal:\", check_bal)\n",
    "\n",
    "try:\n",
    "    Amt_withdrawal= float(input(\"Enter the withdrawal amt:\"))\n",
    "    if  Amt_withdrawal < 0:\n",
    "        print(\"Amount cannot be negative\")\n",
    "    elif Amt_withdrawal > Account_Bal:\n",
    "        print(\" Insufficient funds\") \n",
    "    else:\n",
    "        print(\"Collect your cash\")\n",
    "except ValueError:\n",
    "    print(\"Invalid input. Please enter a numeric value for the withdrawal amount.\")"
   ]
  },
  {
   "cell_type": "code",
   "execution_count": null,
   "id": "38c9fbda-9fe9-44cd-933c-569cac82bf89",
   "metadata": {},
   "outputs": [],
   "source": []
  }
 ],
 "metadata": {
  "kernelspec": {
   "display_name": "Python 3 (ipykernel)",
   "language": "python",
   "name": "python3"
  },
  "language_info": {
   "codemirror_mode": {
    "name": "ipython",
    "version": 3
   },
   "file_extension": ".py",
   "mimetype": "text/x-python",
   "name": "python",
   "nbconvert_exporter": "python",
   "pygments_lexer": "ipython3",
   "version": "3.12.4"
  }
 },
 "nbformat": 4,
 "nbformat_minor": 5
}
